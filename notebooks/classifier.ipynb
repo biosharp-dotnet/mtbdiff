{
 "cells": [
  {
   "cell_type": "markdown",
   "metadata": {},
   "source": [
    "## predict a single isolate strain/species\n",
    "\n",
    "* requires inputs are from a representative set of the MTBC\n"
   ]
  },
  {
   "cell_type": "code",
   "execution_count": 1,
   "metadata": {},
   "outputs": [],
   "source": [
    "import os, sys, io, random, subprocess, re\n",
    "import string\n",
    "from importlib import reload\n",
    "import numpy as np\n",
    "import pandas as pd\n",
    "pd.set_option('display.width',600)\n",
    "import pylab as plt\n",
    "import seaborn as sns\n",
    "sns.set_context(\"notebook\", rc={\"font.size\":12,\"axes.titlesize\":8,\"axes.labelsize\":8})\n",
    "\n",
    "from IPython.display import Image\n",
    "from Bio.Seq import Seq\n",
    "from Bio.SeqRecord import SeqRecord\n",
    "from Bio.Align import MultipleSeqAlignment\n",
    "from Bio import AlignIO, SeqIO\n",
    "\n",
    "from pybioviz import viewers\n",
    "from mtbdiff import utils, analysis"
   ]
  },
  {
   "cell_type": "markdown",
   "metadata": {},
   "source": [
    "## get filtered set of assemblies"
   ]
  },
  {
   "cell_type": "code",
   "execution_count": 2,
   "metadata": {},
   "outputs": [
    {
     "name": "stdout",
     "output_type": "stream",
     "text": [
      "364\n",
      "mtb           155\n",
      "bovis          70\n",
      "BCG            37\n",
      "africanum      31\n",
      "marinum        25\n",
      "canettii        9\n",
      "H37Rv           9\n",
      "ulcerans        7\n",
      "CDC             7\n",
      "pinnipedii      3\n",
      "H37Ra           3\n",
      "caprae          3\n",
      "microti         3\n",
      "orygis          2\n",
      "Name: species, dtype: int64\n"
     ]
    }
   ],
   "source": [
    "asm = utils.get_mtb_assembly_data()\n",
    "icols = ['Assembly_nover','Strain','BioProject','#Organism/Name','species']\n",
    "filtered = asm[(asm.Level=='Complete Genome') | (~asm.species.isin(['mtb']))]\n",
    "print (len(filtered))\n",
    "print (filtered.species.value_counts())"
   ]
  },
  {
   "cell_type": "markdown",
   "metadata": {},
   "source": [
    "## get assemblies"
   ]
  },
  {
   "cell_type": "code",
   "execution_count": null,
   "metadata": {},
   "outputs": [],
   "source": [
    "reload(utils)\n",
    "import urllib\n",
    "path='../training_genomes'\n",
    "for i,row in filtered.iterrows():\n",
    "    url = row['GenBank FTP']\n",
    "    acc = row.Assembly\n",
    "    link = utils.get_url_from_path(url)\n",
    "    filename = os.path.join(path, acc+'.fa.gz')\n",
    "    print (url)\n",
    "    if not os.path.exists(filename):\n",
    "        urllib.request.urlretrieve(link, filename)"
   ]
  },
  {
   "cell_type": "markdown",
   "metadata": {},
   "source": [
    "## run nucdiff on training genomes"
   ]
  },
  {
   "cell_type": "code",
   "execution_count": null,
   "metadata": {},
   "outputs": [],
   "source": [
    "names = analysis.run_genomes(path, outpath='../training_results')\n",
    "struct, snp = utils.get_nucdiff_results('../training_results', names)\n",
    "struct['assembly'] = struct.label.apply(lambda x: x.split('.')[0],1)\n",
    "struct = struct.merge(info[icols], left_on='assembly',right_on='Assembly_nover',how='left')"
   ]
  },
  {
   "cell_type": "markdown",
   "metadata": {},
   "source": [
    "## prepare training matrix"
   ]
  },
  {
   "cell_type": "code",
   "execution_count": null,
   "metadata": {},
   "outputs": [],
   "source": [
    "X = utils.sites_matrix(filtered, index=['descr'], columns=['Species','Strain'], freq=5)\n",
    "X.columns = X.columns.get_level_values(0)\n",
    "#X=X.reset_index(drop=True)\n",
    "print(X[:5])\n",
    "X=X.T\n",
    "X=X.drop('orygis')\n",
    "\n",
    "resp = X.index\n",
    "from sklearn import preprocessing\n",
    "le = preprocessing.LabelEncoder()\n",
    "le.fit(resp)\n",
    "print (list(le.classes_))\n",
    "y = le.transform(resp)"
   ]
  },
  {
   "cell_type": "markdown",
   "metadata": {},
   "source": [
    "## fit classifier"
   ]
  },
  {
   "cell_type": "code",
   "execution_count": null,
   "metadata": {},
   "outputs": [],
   "source": [
    "def build_classifier(X, y, cols=[], kind='rf'):\n",
    "    \"\"\"generic method to build and test sklearn regressor using given dataset\"\"\"\n",
    "    \n",
    "    from sklearn.feature_selection import SelectPercentile\n",
    "    sel = SelectPercentile(percentile=50)\n",
    "    sel.fit(X,y)\n",
    "    X_s = sel.transform(X)\n",
    "    print (X_s.shape) \n",
    "\n",
    "    from sklearn.model_selection import train_test_split,cross_val_score,ShuffleSplit\n",
    "    X_train, X_test, y_train, y_test = train_test_split(X, y, test_size=0.5)#, stratify=y)\n",
    "    print (len(X_train),len(X_test))\n",
    "    if kind == 'rf':\n",
    "        from sklearn.ensemble import RandomForestRegressor, RandomForestClassifier\n",
    "        cl = RandomForestClassifier(criterion='gini', max_depth=4, max_features='auto', n_estimators=200)\n",
    "        cl.fit(X_train, y_train)\n",
    "\n",
    "        importances = cl.feature_importances_\n",
    "        indices = np.argsort(importances)[::-1]\n",
    "        names = X.columns\n",
    "        print ('feature ranking:')\n",
    "        for f in range(X.shape[1])[:10]:\n",
    "            print(\"%d. %s (%f)\" % (f + 1, names[indices[f]], importances[indices[f]]))        \n",
    "\n",
    "    '''scores = cl.predict(X_test)\n",
    "    from sklearn import metrics\n",
    "    #print metrics.roc_auc_score(y_test, p)\n",
    "    fpr, tpr, thresholds = metrics.roc_curve(y_test, scores, pos_label=1)\n",
    "    roc_auc = metrics.auc(fpr, tpr)    \n",
    "    plt.figure(figsize=(6,6))\n",
    "    lw = 2\n",
    "    plt.plot(fpr, tpr, color='darkorange', lw=lw, label='ROC curve (area = %0.2f)' % roc_auc)\n",
    "    plt.plot([0, 1], [0, 1], color='navy', lw=lw, linestyle='--')\n",
    "    plt.title('ROC neoepitope score')\n",
    "    plt.legend()'''\n",
    "    return cl\n",
    "\n",
    "cl=build_classifier(X, y)"
   ]
  }
 ],
 "metadata": {
  "kernelspec": {
   "display_name": "Python 3",
   "language": "python",
   "name": "python3"
  },
  "language_info": {
   "codemirror_mode": {
    "name": "ipython",
    "version": 3
   },
   "file_extension": ".py",
   "mimetype": "text/x-python",
   "name": "python",
   "nbconvert_exporter": "python",
   "pygments_lexer": "ipython3",
   "version": "3.7.3"
  }
 },
 "nbformat": 4,
 "nbformat_minor": 4
}
