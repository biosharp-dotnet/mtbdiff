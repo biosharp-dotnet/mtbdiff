{
 "cells": [
  {
   "cell_type": "markdown",
   "metadata": {},
   "source": [
    "## Misc functions for dealing with assembly data\n",
    "\n",
    "Get subset of assemblies and use lineage info for a subset to get a filtered reference set. \n",
    "\n",
    "Then use as training data or for matching other strains in our assembly set to get their lineage."
   ]
  },
  {
   "cell_type": "code",
   "execution_count": 1,
   "metadata": {},
   "outputs": [],
   "source": [
    "import os, sys, io, random, subprocess, re\n",
    "import string\n",
    "import urllib\n",
    "from importlib import reload\n",
    "import numpy as np\n",
    "import pandas as pd\n",
    "pd.set_option('display.width',200)\n",
    "import pylab as plt\n",
    "\n",
    "from IPython.display import Image\n",
    "from Bio.Seq import Seq\n",
    "from Bio.SeqRecord import SeqRecord\n",
    "from Bio.Align import MultipleSeqAlignment\n",
    "from Bio import AlignIO, SeqIO\n",
    "\n",
    "from mtbdiff import utils, analysis"
   ]
  },
  {
   "cell_type": "markdown",
   "metadata": {},
   "source": [
    "## make bioproject table\n",
    "\n",
    "may be useful later"
   ]
  },
  {
   "cell_type": "code",
   "execution_count": 26,
   "metadata": {},
   "outputs": [],
   "source": [
    "from IPython.display import clear_output, display\n",
    "\n",
    "def get_bioproject_table():\n",
    "    proj = asm.BioProject.unique()\n",
    "    print (len(proj))\n",
    "    res=[]\n",
    "    for id in proj:    \n",
    "        clear_output(wait=True)\n",
    "        if id.find('PRJNA|PRJEB'):\n",
    "            id = id[5:]\n",
    "        print (id)\n",
    "        try:\n",
    "            d = get_bioproject_info(id)\n",
    "            s = pd.Series(d)\n",
    "            res.append(s)\n",
    "        except:\n",
    "            pass\n",
    "\n",
    "    res=pd.Data\n",
    "    print (len(res))\n",
    "    res.to_csv('../mtb_bioprojects.csv',index=False)"
   ]
  },
  {
   "cell_type": "code",
   "execution_count": 4,
   "metadata": {},
   "outputs": [],
   "source": [
    "asm = utils.get_mtb_assembly_data()"
   ]
  },
  {
   "cell_type": "code",
   "execution_count": 28,
   "metadata": {},
   "outputs": [],
   "source": [
    "bioproj = pd.read_csv('../mtbdiff/data/mtb_bioprojects.csv')"
   ]
  },
  {
   "cell_type": "markdown",
   "metadata": {},
   "source": [
    "## get extra fields for mtb assemblies"
   ]
  },
  {
   "cell_type": "code",
   "execution_count": null,
   "metadata": {},
   "outputs": [],
   "source": [
    "\n",
    "#asm['Assembly_nover'] = asm.Assembly.apply(lambda x: x.split('.')[0],1)\n",
    "print (asm.columns)\n",
    "variants = ['ofxr','haarlem','kzn','btb09','btb10','btb05','btb11']\n",
    "species = ['bcg','bovis','h37rv','h37ra','cdc1551','beijing',           \n",
    "           'africanum','africanum','marinum','canettii','ulcerans',\n",
    "           'caprae','orygis','microti','pinnipedii']\n",
    "def get_species(x):\n",
    "    for s in species:\n",
    "        if x.find(s) > 0:\n",
    "            return s\n",
    "    return 'mtb'\n",
    "\n",
    "x=asm.Organism_Name.str.lower().apply(get_species)\n",
    "x.value_counts()"
   ]
  },
  {
   "cell_type": "code",
   "execution_count": 49,
   "metadata": {},
   "outputs": [
    {
     "data": {
      "text/plain": [
       "PRJNA343736    1643\n",
       "PRJEB2138      1000\n",
       "PRJEB5280       470\n",
       "PRJEB2221       387\n",
       "PRJNA476470     337\n",
       "PRJEB2057       196\n",
       "PRJEB2777        99\n",
       "PRJNA407834      68\n",
       "PRJEB2424        51\n",
       "PRJNA288586      34\n",
       "Name: BioProject, dtype: int64"
      ]
     },
     "execution_count": 49,
     "metadata": {},
     "output_type": "execute_result"
    }
   ],
   "source": [
    "#asm.Organism_Name.value_counts()[:20]\n",
    "asm.BioProject.value_counts()[:10]"
   ]
  },
  {
   "cell_type": "code",
   "execution_count": null,
   "metadata": {},
   "outputs": [],
   "source": [
    "print (bioproj.columns)\n",
    "bio=bioproj.fillna('-')\n",
    "bioproj.Submitter_Organization.value_counts()[:10]\n",
    "#x=bioproj[bioproj.Project_Description.str.contains('Beijing')]\n"
   ]
  },
  {
   "cell_type": "markdown",
   "metadata": {},
   "source": [
    "## make filtered set"
   ]
  },
  {
   "cell_type": "code",
   "execution_count": null,
   "metadata": {},
   "outputs": [],
   "source": [
    "icols = ['Assembly_nover','Strain','BioProject','#Organism/Name','species']\n",
    "filtered = asm[(asm.Level=='Complete Genome') | (~asm.species.isin(['mtb']))]\n",
    "print (len(filtered))\n",
    "print (filtered.species.value_counts())"
   ]
  },
  {
   "cell_type": "markdown",
   "metadata": {},
   "source": [
    "## select ref genomes for testing"
   ]
  },
  {
   "cell_type": "code",
   "execution_count": 5,
   "metadata": {},
   "outputs": [],
   "source": [
    "d=[]\n",
    "for i,g in asm.groupby('species'):\n",
    "    d.append(g.iloc[0])    \n",
    "#d = pd.DataFrame(d)\n",
    "#d.to_csv('ref_genomes.csv',index=False)\n",
    "refs = pd.read_csv('../mtbdiff/data/ref_genomes.csv')\n"
   ]
  },
  {
   "cell_type": "code",
   "execution_count": null,
   "metadata": {},
   "outputs": [],
   "source": []
  }
 ],
 "metadata": {
  "kernelspec": {
   "display_name": "Python 3",
   "language": "python",
   "name": "python3"
  },
  "language_info": {
   "codemirror_mode": {
    "name": "ipython",
    "version": 3
   },
   "file_extension": ".py",
   "mimetype": "text/x-python",
   "name": "python",
   "nbconvert_exporter": "python",
   "pygments_lexer": "ipython3",
   "version": "3.7.3"
  }
 },
 "nbformat": 4,
 "nbformat_minor": 4
}
