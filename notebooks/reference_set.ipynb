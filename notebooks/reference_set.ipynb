{
 "cells": [
  {
   "cell_type": "markdown",
   "metadata": {},
   "source": [
    "## Misc functions for dealing with assembly data\n",
    "\n",
    "Get subset of assemblies and use lineage info for a subset to get a filtered reference set. \n",
    "\n",
    "Then use as training data or for matching other strains in our assembly set to get their lineage."
   ]
  },
  {
   "cell_type": "code",
   "execution_count": 2,
   "metadata": {},
   "outputs": [],
   "source": [
    "import os, sys, io, random, subprocess, re\n",
    "import string\n",
    "import urllib\n",
    "from importlib import reload\n",
    "import numpy as np\n",
    "import pandas as pd\n",
    "pd.set_option('display.width',600)\n",
    "import pylab as plt\n",
    "\n",
    "from IPython.display import Image\n",
    "from Bio.Seq import Seq\n",
    "from Bio.SeqRecord import SeqRecord\n",
    "from Bio.Align import MultipleSeqAlignment\n",
    "from Bio import AlignIO, SeqIO\n",
    "\n",
    "from mtbdiff import utils, analysis"
   ]
  },
  {
   "cell_type": "markdown",
   "metadata": {},
   "source": [
    "## make bioproject table\n",
    "\n",
    "may be useful later"
   ]
  },
  {
   "cell_type": "code",
   "execution_count": 2,
   "metadata": {},
   "outputs": [],
   "source": [
    "from IPython.display import clear_output, display\n",
    "\n",
    "def get_bioproject_table():\n",
    "    proj = asm.BioProject.unique()\n",
    "    print (len(proj))\n",
    "    res=[]\n",
    "    for id in proj:    \n",
    "        clear_output(wait=True)\n",
    "        if id.find('PRJNA|PRJEB'):\n",
    "            id = id[5:]\n",
    "        print (id)\n",
    "        try:\n",
    "            d = get_bioproject_info(id)\n",
    "            s = pd.Series(d)\n",
    "            res.append(s)\n",
    "        except:\n",
    "            pass\n",
    "\n",
    "    res=pd.Data\n",
    "    print (len(res))\n",
    "    res.to_csv('../mtb_bioprojects.csv',index=False)"
   ]
  },
  {
   "cell_type": "markdown",
   "metadata": {},
   "source": [
    "## get extra fields for mtb assemblies"
   ]
  },
  {
   "cell_type": "code",
   "execution_count": 3,
   "metadata": {},
   "outputs": [
    {
     "name": "stdout",
     "output_type": "stream",
     "text": [
      "Index(['Organism_Name', 'Strain', 'CladeID', 'BioSample', 'BioProject', 'Group', 'SubGroup', 'Assembly', 'Size (Mb)', 'GC%', 'Replicons', 'WGS', 'Scaffolds', 'Genes', 'Proteins', 'Release Date', 'Modify Date', 'Level', 'RefSeq FTP', 'GenBank FTP', 'species', 'Assembly_nover'], dtype='object')\n"
     ]
    },
    {
     "data": {
      "text/plain": [
       "mtb           6392\n",
       "bovis           70\n",
       "bcg             37\n",
       "africanum       31\n",
       "marinum         25\n",
       "canettii         9\n",
       "h37rv            9\n",
       "ulcerans         7\n",
       "cdc1551          3\n",
       "microti          3\n",
       "caprae           3\n",
       "h37ra            3\n",
       "pinnipedii       3\n",
       "orygis           2\n",
       "beijing          2\n",
       "Name: Organism_Name, dtype: int64"
      ]
     },
     "execution_count": 3,
     "metadata": {},
     "output_type": "execute_result"
    }
   ],
   "source": [
    "asm = utils.get_mtb_assembly_data()\n",
    "#asm['Assembly_nover'] = asm.Assembly.apply(lambda x: x.split('.')[0],1)\n",
    "print (asm.columns)\n",
    "variants = ['ofxr','haarlem','kzn','btb09','btb10','btb05','btb11']\n",
    "species = ['bcg','bovis','h37rv','h37ra','cdc1551','beijing',           \n",
    "           'africanum','africanum','marinum','canettii','ulcerans',\n",
    "           'caprae','orygis','microti','pinnipedii']\n",
    "def get_species(x):\n",
    "    for s in species:\n",
    "        if x.find(s) > 0:\n",
    "            return s\n",
    "    return 'mtb'\n",
    "\n",
    "x=asm.Organism_Name.str.lower().apply(get_species)\n",
    "x.value_counts()"
   ]
  },
  {
   "cell_type": "code",
   "execution_count": null,
   "metadata": {},
   "outputs": [],
   "source": [
    "from wordcloud import WordCloud, STOPWORDS\n",
    "text = ' '.join(asm.Organism_Name)\n",
    "wordcloud = WordCloud(\n",
    "    width = 2500,\n",
    "    height = 1000,\n",
    "    background_color = 'white',\n",
    "    min_font_size=10,\n",
    "    max_font_size=160,\n",
    "    stopwords = STOPWORDS).generate(str(text))\n",
    "fig = plt.figure(\n",
    "    figsize = (20,15),\n",
    "    facecolor = 'w',\n",
    "    edgecolor = 'k')\n",
    "plt.imshow(wordcloud, interpolation = 'bilinear')\n",
    "plt.tight_layout(pad=0)\n",
    "plt.axis(\"off\")"
   ]
  },
  {
   "cell_type": "code",
   "execution_count": 49,
   "metadata": {},
   "outputs": [
    {
     "data": {
      "text/plain": [
       "PRJNA343736    1643\n",
       "PRJEB2138      1000\n",
       "PRJEB5280       470\n",
       "PRJEB2221       387\n",
       "PRJNA476470     337\n",
       "PRJEB2057       196\n",
       "PRJEB2777        99\n",
       "PRJNA407834      68\n",
       "PRJEB2424        51\n",
       "PRJNA288586      34\n",
       "Name: BioProject, dtype: int64"
      ]
     },
     "execution_count": 49,
     "metadata": {},
     "output_type": "execute_result"
    }
   ],
   "source": [
    "#asm.Organism_Name.value_counts()[:20]\n",
    "asm.BioProject.value_counts()[:10]"
   ]
  },
  {
   "cell_type": "code",
   "execution_count": 41,
   "metadata": {},
   "outputs": [
    {
     "name": "stdout",
     "output_type": "stream",
     "text": [
      "Index(['TaxId', 'Project_Id', 'Project_Acc', 'Sort_By_ProjectType', 'Sort_By_DataType', 'Sort_By_Organism', 'Project_Subtype', 'Project_Target_Scope', 'Registration_Date', 'Project_Name', 'Project_Title', 'Project_Description', 'Organism_Name', 'Organism_Strain', 'Organism_Label', 'Sequencing_Status', 'Submitter_Organization'], dtype='object')\n"
     ]
    },
    {
     "data": {
      "text/plain": [
       "Broad Institute                                          1622\n",
       "Texas A&M University                                       78\n",
       "Vanderbilt University                                      37\n",
       "International Tuberculosis Research Center                 29\n",
       "LAU                                                        13\n",
       "Shanghai Jiao Tong University School of Medicine           10\n",
       "University of Malaya                                        8\n",
       "Vavilov Institute of General Genetics                       7\n",
       "Institute of Microbiology Chinese Academy of Sciences       6\n",
       "VISION RESEARCH FOUNDATION, SANKARA NETHRALAYA              6\n",
       "Name: Submitter_Organization, dtype: int64"
      ]
     },
     "execution_count": 41,
     "metadata": {},
     "output_type": "execute_result"
    }
   ],
   "source": [
    "bio = pd.read_csv('../mtbdiff/data/mtb_bioprojects.csv')\n",
    "print (bio.columns)\n",
    "bio=bio.fillna('-')\n",
    "bio.Submitter_Organization.value_counts()[:10]\n",
    "#x=bio[bio.Project_Description.str.contains('Beijing')]\n",
    "#x['Project_Description']"
   ]
  },
  {
   "cell_type": "markdown",
   "metadata": {},
   "source": [
    "## make filtered set"
   ]
  },
  {
   "cell_type": "code",
   "execution_count": 23,
   "metadata": {},
   "outputs": [
    {
     "name": "stdout",
     "output_type": "stream",
     "text": [
      "364\n",
      "mtb           155\n",
      "bovis          70\n",
      "BCG            37\n",
      "africanum      31\n",
      "marinum        25\n",
      "canettii        9\n",
      "H37Rv           9\n",
      "ulcerans        7\n",
      "CDC             7\n",
      "pinnipedii      3\n",
      "caprae          3\n",
      "microti         3\n",
      "H37Ra           3\n",
      "orygis          2\n",
      "Name: species, dtype: int64\n"
     ]
    }
   ],
   "source": [
    "icols = ['Assembly_nover','Strain','BioProject','#Organism/Name','species']\n",
    "filtered = asm[(asm.Level=='Complete Genome') | (~asm.species.isin(['mtb']))]\n",
    "print (len(filtered))\n",
    "print (filtered.species.value_counts())"
   ]
  },
  {
   "cell_type": "code",
   "execution_count": 6,
   "metadata": {},
   "outputs": [
    {
     "data": {
      "text/html": [
       "<div>\n",
       "<style scoped>\n",
       "    .dataframe tbody tr th:only-of-type {\n",
       "        vertical-align: middle;\n",
       "    }\n",
       "\n",
       "    .dataframe tbody tr th {\n",
       "        vertical-align: top;\n",
       "    }\n",
       "\n",
       "    .dataframe thead th {\n",
       "        text-align: right;\n",
       "    }\n",
       "</style>\n",
       "<table border=\"1\" class=\"dataframe\">\n",
       "  <thead>\n",
       "    <tr style=\"text-align: right;\">\n",
       "      <th></th>\n",
       "      <th>Accession</th>\n",
       "      <th>Paired</th>\n",
       "      <th>Lineage</th>\n",
       "      <th>Origin</th>\n",
       "      <th>BioProject</th>\n",
       "      <th>BioSample</th>\n",
       "      <th>Read length</th>\n",
       "      <th>Link1</th>\n",
       "      <th>Link2</th>\n",
       "      <th>Reference</th>\n",
       "    </tr>\n",
       "  </thead>\n",
       "  <tbody>\n",
       "    <tr>\n",
       "      <th>0</th>\n",
       "      <td>ERR2642516</td>\n",
       "      <td>no</td>\n",
       "      <td>caprae</td>\n",
       "      <td>NaN</td>\n",
       "      <td>PRJEB27266</td>\n",
       "      <td>SAMEA4732081</td>\n",
       "      <td>51</td>\n",
       "      <td>ftp://ftp.sra.ebi.ac.uk/vol1/fastq/ERR264/006/...</td>\n",
       "      <td>NaN</td>\n",
       "      <td>Brites et al. 2018</td>\n",
       "    </tr>\n",
       "  </tbody>\n",
       "</table>\n",
       "</div>"
      ],
      "text/plain": [
       "    Accession Paired Lineage Origin  BioProject     BioSample  Read length                                              Link1 Link2           Reference\n",
       "0  ERR2642516     no  caprae    NaN  PRJEB27266  SAMEA4732081           51  ftp://ftp.sra.ebi.ac.uk/vol1/fastq/ERR264/006/...   NaN  Brites et al. 2018"
      ]
     },
     "execution_count": 6,
     "metadata": {},
     "output_type": "execute_result"
    }
   ],
   "source": [
    "refs = pd.read_csv('../mtbdiff/data/ref_genomes.csv')\n",
    "refs[:1]\n",
    "#asm.merge(refs,on='BioSample')"
   ]
  },
  {
   "cell_type": "markdown",
   "metadata": {},
   "source": [
    "## Fetch raw reads and assemble genomes for known MTB lineages reference set"
   ]
  },
  {
   "cell_type": "code",
   "execution_count": 27,
   "metadata": {},
   "outputs": [
    {
     "name": "stdout",
     "output_type": "stream",
     "text": [
      "ERR233356 tuberculosis L1\n",
      "ERR1200629 tuberculosis L1\n",
      "ERR234155 tuberculosis L1\n",
      "ERR234238 tuberculosis L1\n",
      "ERR234272 tuberculosis L1\n"
     ]
    }
   ],
   "source": [
    "path = '../read_data'\n",
    "assembly_path = '../ref_assemblies'\n",
    "refs = refs[refs.Lineage.str.contains('tuberculosis')]\n",
    "for i, row in list(refs.iterrows())[:5]:\n",
    "    print (row.Accession,row.Lineage)\n",
    "    f1 = os.path.join(path,os.path.basename(row.Link1))  \n",
    "    if row.Paired == 'yes':\n",
    "        f2 = os.path.join(path,os.path.basename(row.Link2))    \n",
    "    else: \n",
    "        f2=None\n",
    "    if not os.path.exists(f1):        \n",
    "        urllib.request.urlretrieve(row.Link1, f1)\n",
    "        if f2 != None:\n",
    "            urllib.request.urlretrieve(row.Link2, f2)\n",
    "    #do assembly\n",
    "    out = os.path.join(assembly_path, row.Accession)\n",
    "    if os.path.exists(out):\n",
    "        continue\n",
    "    if row.Paired == 'yes':\n",
    "        cmd = '/local/SPAdes-3.13.0-Linux/bin/spades.py -t 12 --pe1-1 %s --pe1-2 %s --careful -o %s --only-assembler' \\\n",
    "            %(f1,f2,out)\n",
    "    else:\n",
    "        cmd = '/local/SPAdes-3.13.0-Linux/bin/spades.py -t 12 -s %s --careful -o %s --only-assembler' %(f1,out)\n",
    "    print (cmd)\n",
    "    subprocess.check_output(cmd, shell=True)\n",
    "    "
   ]
  },
  {
   "cell_type": "markdown",
   "metadata": {},
   "source": [
    "## run mtbdiff on ref lineages "
   ]
  },
  {
   "cell_type": "code",
   "execution_count": 32,
   "metadata": {},
   "outputs": [
    {
     "name": "stdout",
     "output_type": "stream",
     "text": [
      "../ref_genomes/ERR234155.fa ERR234155\n",
      "../ref_genomes/ERR233356.fa ERR233356\n",
      "../ref_genomes/ERR1200629.fa ERR1200629\n",
      "../ref_genomes/ERR234272.fa ERR234272\n",
      "../ref_genomes/Mbovis.fna Mbovis\n",
      "../ref_genomes/ERR234238.fa ERR234238\n"
     ]
    }
   ],
   "source": [
    "names = analysis.run_genomes('../ref_genomes', outpath='../ref_results')\n",
    "struct, snp =  utils.get_nucdiff_results('../ref_results', names)\n",
    "struct = utils.annotate_results(struct)"
   ]
  },
  {
   "cell_type": "code",
   "execution_count": 33,
   "metadata": {},
   "outputs": [],
   "source": [
    "analysis.get_summary(struct)\n",
    "rdmat = utils.RD_matrix(struct)"
   ]
  },
  {
   "cell_type": "code",
   "execution_count": 34,
   "metadata": {},
   "outputs": [
    {
     "data": {
      "image/png": "[encoded data removed]",
      "text/plain": [
       "<Figure size 864x486 with 4 Axes>"
      ]
     },
     "metadata": {
      "needs_background": "light"
     },
     "output_type": "display_data"
    }
   ],
   "source": [
    "fig = analysis.plot_RD(rdmat.T)"
   ]
  },
  {
   "cell_type": "markdown",
   "metadata": {},
   "source": [
    "## use decision matrix based on RD rules to attribute strain \n",
    "\n",
    "- simpler than classifer\n",
    "- just apply the rules and compare to known assemblies"
   ]
  },
  {
   "cell_type": "code",
   "execution_count": 66,
   "metadata": {},
   "outputs": [],
   "source": [
    "rulesmat = pd.read_csv('../mtbdiff/data/RD_rules.csv').set_index('variant').drop(columns=['rule','species'])\n",
    "#rdmat"
   ]
  },
  {
   "cell_type": "code",
   "execution_count": 49,
   "metadata": {},
   "outputs": [
    {
     "data": {
      "text/html": [
       "<div>\n",
       "<style scoped>\n",
       "    .dataframe tbody tr th:only-of-type {\n",
       "        vertical-align: middle;\n",
       "    }\n",
       "\n",
       "    .dataframe tbody tr th {\n",
       "        vertical-align: top;\n",
       "    }\n",
       "\n",
       "    .dataframe thead th {\n",
       "        text-align: right;\n",
       "    }\n",
       "</style>\n",
       "<table border=\"1\" class=\"dataframe\">\n",
       "  <thead>\n",
       "    <tr style=\"text-align: right;\">\n",
       "      <th>label</th>\n",
       "      <th>ERR1200629</th>\n",
       "      <th>ERR233356</th>\n",
       "      <th>ERR234155</th>\n",
       "      <th>ERR234238</th>\n",
       "      <th>ERR234272</th>\n",
       "      <th>Mbovis</th>\n",
       "    </tr>\n",
       "    <tr>\n",
       "      <th>RD</th>\n",
       "      <th></th>\n",
       "      <th></th>\n",
       "      <th></th>\n",
       "      <th></th>\n",
       "      <th></th>\n",
       "      <th></th>\n",
       "    </tr>\n",
       "  </thead>\n",
       "  <tbody>\n",
       "    <tr>\n",
       "      <th>-</th>\n",
       "      <td>1.0</td>\n",
       "      <td>1.0</td>\n",
       "      <td>1.0</td>\n",
       "      <td>1.0</td>\n",
       "      <td>1.0</td>\n",
       "      <td>1.0</td>\n",
       "    </tr>\n",
       "    <tr>\n",
       "      <th>RD1</th>\n",
       "      <td>1.0</td>\n",
       "      <td>1.0</td>\n",
       "      <td>1.0</td>\n",
       "      <td>1.0</td>\n",
       "      <td>1.0</td>\n",
       "      <td>0.0</td>\n",
       "    </tr>\n",
       "    <tr>\n",
       "      <th>RD10</th>\n",
       "      <td>1.0</td>\n",
       "      <td>0.0</td>\n",
       "      <td>0.0</td>\n",
       "      <td>0.0</td>\n",
       "      <td>0.0</td>\n",
       "      <td>1.0</td>\n",
       "    </tr>\n",
       "    <tr>\n",
       "      <th>RD11</th>\n",
       "      <td>1.0</td>\n",
       "      <td>1.0</td>\n",
       "      <td>1.0</td>\n",
       "      <td>1.0</td>\n",
       "      <td>1.0</td>\n",
       "      <td>1.0</td>\n",
       "    </tr>\n",
       "    <tr>\n",
       "      <th>RD115</th>\n",
       "      <td>0.0</td>\n",
       "      <td>0.0</td>\n",
       "      <td>0.0</td>\n",
       "      <td>1.0</td>\n",
       "      <td>0.0</td>\n",
       "      <td>0.0</td>\n",
       "    </tr>\n",
       "    <tr>\n",
       "      <th>RD127</th>\n",
       "      <td>1.0</td>\n",
       "      <td>0.0</td>\n",
       "      <td>0.0</td>\n",
       "      <td>0.0</td>\n",
       "      <td>0.0</td>\n",
       "      <td>0.0</td>\n",
       "    </tr>\n",
       "    <tr>\n",
       "      <th>RD12bov</th>\n",
       "      <td>0.0</td>\n",
       "      <td>0.0</td>\n",
       "      <td>0.0</td>\n",
       "      <td>0.0</td>\n",
       "      <td>0.0</td>\n",
       "      <td>1.0</td>\n",
       "    </tr>\n",
       "    <tr>\n",
       "      <th>RD12can</th>\n",
       "      <td>0.0</td>\n",
       "      <td>0.0</td>\n",
       "      <td>0.0</td>\n",
       "      <td>0.0</td>\n",
       "      <td>1.0</td>\n",
       "      <td>1.0</td>\n",
       "    </tr>\n",
       "    <tr>\n",
       "      <th>RD13</th>\n",
       "      <td>0.0</td>\n",
       "      <td>0.0</td>\n",
       "      <td>0.0</td>\n",
       "      <td>0.0</td>\n",
       "      <td>0.0</td>\n",
       "      <td>1.0</td>\n",
       "    </tr>\n",
       "    <tr>\n",
       "      <th>RD14</th>\n",
       "      <td>1.0</td>\n",
       "      <td>0.0</td>\n",
       "      <td>1.0</td>\n",
       "      <td>1.0</td>\n",
       "      <td>0.0</td>\n",
       "      <td>1.0</td>\n",
       "    </tr>\n",
       "    <tr>\n",
       "      <th>RD149</th>\n",
       "      <td>0.0</td>\n",
       "      <td>1.0</td>\n",
       "      <td>1.0</td>\n",
       "      <td>1.0</td>\n",
       "      <td>0.0</td>\n",
       "      <td>0.0</td>\n",
       "    </tr>\n",
       "    <tr>\n",
       "      <th>RD152</th>\n",
       "      <td>1.0</td>\n",
       "      <td>1.0</td>\n",
       "      <td>1.0</td>\n",
       "      <td>1.0</td>\n",
       "      <td>1.0</td>\n",
       "      <td>1.0</td>\n",
       "    </tr>\n",
       "    <tr>\n",
       "      <th>RD168BWa</th>\n",
       "      <td>1.0</td>\n",
       "      <td>0.0</td>\n",
       "      <td>0.0</td>\n",
       "      <td>0.0</td>\n",
       "      <td>0.0</td>\n",
       "      <td>0.0</td>\n",
       "    </tr>\n",
       "    <tr>\n",
       "      <th>RD174</th>\n",
       "      <td>1.0</td>\n",
       "      <td>0.0</td>\n",
       "      <td>0.0</td>\n",
       "      <td>0.0</td>\n",
       "      <td>0.0</td>\n",
       "      <td>0.0</td>\n",
       "    </tr>\n",
       "    <tr>\n",
       "      <th>RD182</th>\n",
       "      <td>1.0</td>\n",
       "      <td>1.0</td>\n",
       "      <td>1.0</td>\n",
       "      <td>1.0</td>\n",
       "      <td>1.0</td>\n",
       "      <td>1.0</td>\n",
       "    </tr>\n",
       "    <tr>\n",
       "      <th>RD183</th>\n",
       "      <td>1.0</td>\n",
       "      <td>0.0</td>\n",
       "      <td>0.0</td>\n",
       "      <td>0.0</td>\n",
       "      <td>0.0</td>\n",
       "      <td>0.0</td>\n",
       "    </tr>\n",
       "    <tr>\n",
       "      <th>RD2</th>\n",
       "      <td>0.0</td>\n",
       "      <td>0.0</td>\n",
       "      <td>0.0</td>\n",
       "      <td>1.0</td>\n",
       "      <td>1.0</td>\n",
       "      <td>0.0</td>\n",
       "    </tr>\n",
       "    <tr>\n",
       "      <th>RD200BWa</th>\n",
       "      <td>1.0</td>\n",
       "      <td>0.0</td>\n",
       "      <td>0.0</td>\n",
       "      <td>0.0</td>\n",
       "      <td>0.0</td>\n",
       "      <td>0.0</td>\n",
       "    </tr>\n",
       "    <tr>\n",
       "      <th>RD207</th>\n",
       "      <td>1.0</td>\n",
       "      <td>1.0</td>\n",
       "      <td>1.0</td>\n",
       "      <td>1.0</td>\n",
       "      <td>1.0</td>\n",
       "      <td>1.0</td>\n",
       "    </tr>\n",
       "    <tr>\n",
       "      <th>RD213BWa</th>\n",
       "      <td>0.0</td>\n",
       "      <td>0.0</td>\n",
       "      <td>0.0</td>\n",
       "      <td>1.0</td>\n",
       "      <td>0.0</td>\n",
       "      <td>0.0</td>\n",
       "    </tr>\n",
       "    <tr>\n",
       "      <th>RD239</th>\n",
       "      <td>1.0</td>\n",
       "      <td>1.0</td>\n",
       "      <td>1.0</td>\n",
       "      <td>1.0</td>\n",
       "      <td>1.0</td>\n",
       "      <td>0.0</td>\n",
       "    </tr>\n",
       "    <tr>\n",
       "      <th>RD4</th>\n",
       "      <td>0.0</td>\n",
       "      <td>0.0</td>\n",
       "      <td>0.0</td>\n",
       "      <td>1.0</td>\n",
       "      <td>0.0</td>\n",
       "      <td>1.0</td>\n",
       "    </tr>\n",
       "    <tr>\n",
       "      <th>RD5</th>\n",
       "      <td>1.0</td>\n",
       "      <td>1.0</td>\n",
       "      <td>1.0</td>\n",
       "      <td>1.0</td>\n",
       "      <td>1.0</td>\n",
       "      <td>1.0</td>\n",
       "    </tr>\n",
       "    <tr>\n",
       "      <th>RD6</th>\n",
       "      <td>1.0</td>\n",
       "      <td>1.0</td>\n",
       "      <td>0.0</td>\n",
       "      <td>0.0</td>\n",
       "      <td>0.0</td>\n",
       "      <td>0.0</td>\n",
       "    </tr>\n",
       "    <tr>\n",
       "      <th>RD7</th>\n",
       "      <td>1.0</td>\n",
       "      <td>1.0</td>\n",
       "      <td>1.0</td>\n",
       "      <td>1.0</td>\n",
       "      <td>1.0</td>\n",
       "      <td>1.0</td>\n",
       "    </tr>\n",
       "    <tr>\n",
       "      <th>RD711</th>\n",
       "      <td>0.0</td>\n",
       "      <td>0.0</td>\n",
       "      <td>0.0</td>\n",
       "      <td>1.0</td>\n",
       "      <td>0.0</td>\n",
       "      <td>1.0</td>\n",
       "    </tr>\n",
       "    <tr>\n",
       "      <th>RD726</th>\n",
       "      <td>1.0</td>\n",
       "      <td>0.0</td>\n",
       "      <td>0.0</td>\n",
       "      <td>0.0</td>\n",
       "      <td>0.0</td>\n",
       "      <td>0.0</td>\n",
       "    </tr>\n",
       "    <tr>\n",
       "      <th>RD8</th>\n",
       "      <td>0.0</td>\n",
       "      <td>0.0</td>\n",
       "      <td>1.0</td>\n",
       "      <td>1.0</td>\n",
       "      <td>0.0</td>\n",
       "      <td>1.0</td>\n",
       "    </tr>\n",
       "    <tr>\n",
       "      <th>RD9</th>\n",
       "      <td>0.0</td>\n",
       "      <td>0.0</td>\n",
       "      <td>0.0</td>\n",
       "      <td>0.0</td>\n",
       "      <td>0.0</td>\n",
       "      <td>1.0</td>\n",
       "    </tr>\n",
       "  </tbody>\n",
       "</table>\n",
       "</div>"
      ],
      "text/plain": [
       "label     ERR1200629  ERR233356  ERR234155  ERR234238  ERR234272  Mbovis\n",
       "RD                                                                      \n",
       "-                1.0        1.0        1.0        1.0        1.0     1.0\n",
       "RD1              1.0        1.0        1.0        1.0        1.0     0.0\n",
       "RD10             1.0        0.0        0.0        0.0        0.0     1.0\n",
       "RD11             1.0        1.0        1.0        1.0        1.0     1.0\n",
       "RD115            0.0        0.0        0.0        1.0        0.0     0.0\n",
       "RD127            1.0        0.0        0.0        0.0        0.0     0.0\n",
       "RD12bov          0.0        0.0        0.0        0.0        0.0     1.0\n",
       "RD12can          0.0        0.0        0.0        0.0        1.0     1.0\n",
       "RD13             0.0        0.0        0.0        0.0        0.0     1.0\n",
       "RD14             1.0        0.0        1.0        1.0        0.0     1.0\n",
       "RD149            0.0        1.0        1.0        1.0        0.0     0.0\n",
       "RD152            1.0        1.0        1.0        1.0        1.0     1.0\n",
       "RD168BWa         1.0        0.0        0.0        0.0        0.0     0.0\n",
       "RD174            1.0        0.0        0.0        0.0        0.0     0.0\n",
       "RD182            1.0        1.0        1.0        1.0        1.0     1.0\n",
       "RD183            1.0        0.0        0.0        0.0        0.0     0.0\n",
       "RD2              0.0        0.0        0.0        1.0        1.0     0.0\n",
       "RD200BWa         1.0        0.0        0.0        0.0        0.0     0.0\n",
       "RD207            1.0        1.0        1.0        1.0        1.0     1.0\n",
       "RD213BWa         0.0        0.0        0.0        1.0        0.0     0.0\n",
       "RD239            1.0        1.0        1.0        1.0        1.0     0.0\n",
       "RD4              0.0        0.0        0.0        1.0        0.0     1.0\n",
       "RD5              1.0        1.0        1.0        1.0        1.0     1.0\n",
       "RD6              1.0        1.0        0.0        0.0        0.0     0.0\n",
       "RD7              1.0        1.0        1.0        1.0        1.0     1.0\n",
       "RD711            0.0        0.0        0.0        1.0        0.0     1.0\n",
       "RD726            1.0        0.0        0.0        0.0        0.0     0.0\n",
       "RD8              0.0        0.0        1.0        1.0        0.0     1.0\n",
       "RD9              0.0        0.0        0.0        0.0        0.0     1.0"
      ]
     },
     "execution_count": 49,
     "metadata": {},
     "output_type": "execute_result"
    }
   ],
   "source": [
    "rd"
   ]
  },
  {
   "cell_type": "code",
   "execution_count": null,
   "metadata": {},
   "outputs": [],
   "source": []
  }
 ],
 "metadata": {
  "kernelspec": {
   "display_name": "Python 3",
   "language": "python",
   "name": "python3"
  },
  "language_info": {
   "codemirror_mode": {
    "name": "ipython",
    "version": 3
   },
   "file_extension": ".py",
   "mimetype": "text/x-python",
   "name": "python",
   "nbconvert_exporter": "python",
   "pygments_lexer": "ipython3",
   "version": "3.7.3"
  }
 },
 "nbformat": 4,
 "nbformat_minor": 4
}
